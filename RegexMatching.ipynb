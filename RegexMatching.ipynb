{
  "nbformat": 4,
  "nbformat_minor": 0,
  "metadata": {
    "colab": {
      "provenance": [],
      "authorship_tag": "ABX9TyPyr3C+wdMNYgv7RIdwIml7",
      "include_colab_link": true
    },
    "kernelspec": {
      "name": "python3",
      "display_name": "Python 3"
    },
    "language_info": {
      "name": "python"
    }
  },
  "cells": [
    {
      "cell_type": "markdown",
      "metadata": {
        "id": "view-in-github",
        "colab_type": "text"
      },
      "source": [
        "<a href=\"https://colab.research.google.com/github/LifeHashed/BostonHousePricing/blob/main/RegexMatching.ipynb\" target=\"_parent\"><img src=\"https://colab.research.google.com/assets/colab-badge.svg\" alt=\"Open In Colab\"/></a>"
      ]
    },
    {
      "cell_type": "markdown",
      "source": [
        "#Importing relevant libraries"
      ],
      "metadata": {
        "id": "7u1zQTzd0pki"
      }
    },
    {
      "cell_type": "code",
      "execution_count": 3,
      "metadata": {
        "id": "n5b83anZzB_X"
      },
      "outputs": [],
      "source": [
        "import re"
      ]
    },
    {
      "cell_type": "markdown",
      "source": [
        "#Processing\n"
      ],
      "metadata": {
        "id": "3FqRclFI01ax"
      }
    },
    {
      "cell_type": "markdown",
      "source": [
        "Email and phone number redaction\n"
      ],
      "metadata": {
        "id": "xdjcwI6SYuDx"
      }
    },
    {
      "cell_type": "code",
      "source": [
        "def replace_emails_and_phones(text):\n",
        "    # Regular expression patterns for emails and phone numbers\n",
        "    email_pattern = r'[a-zA-Z0-9._%+-]+@[a-zA-Z0-9.-]+\\.[a-zA-Z]{2,}'\n",
        "    phone_pattern = r'\\+?\\d{1,4}[\\s-]?\\(?\\d{1,4}\\)?[\\s-]?\\d{1,4}[\\s-]?\\d{1,4}[\\s-]?\\d{1,9}'\n",
        "\n",
        "\n",
        "    # Replace emails and phone numbers with 'x' of the same length\n",
        "    text = re.sub(email_pattern, lambda x: 'x' * len(x.group()), text)\n",
        "    text = re.sub(phone_pattern, lambda x: 'x' * len(x.group()), text)\n",
        "\n",
        "    return text"
      ],
      "metadata": {
        "id": "CFDclOxO07J9"
      },
      "execution_count": 37,
      "outputs": []
    },
    {
      "cell_type": "markdown",
      "source": [
        "Card no. and Aadhar redaction"
      ],
      "metadata": {
        "id": "Jtx4ZyxAYzej"
      }
    },
    {
      "cell_type": "code",
      "source": [
        "#Luhn's algorithm is used to validate card no.\n",
        "def get_digit(number):\n",
        "    if number < 9:\n",
        "        return number\n",
        "    return number // 10 + number % 10\n",
        "\n",
        "# Return the number of digits in d\n",
        "def get_size(d):\n",
        "    return len(str(d))\n",
        "\n",
        "# Return the first k number of digits from number.\n",
        "# If the number of digits in number is less than k, return number.\n",
        "def get_prefix(number, k):\n",
        "    num_str = str(number)\n",
        "    if len(num_str) > k:\n",
        "        return int(num_str[:k])\n",
        "    return number\n",
        "\n",
        "# Return true if the digit d is a prefix for number\n",
        "def prefix_matched(number, d):\n",
        "    return get_prefix(number, get_size(d)) == d\n",
        "\n",
        "# Get the result from Step 2: sum of double even place digits\n",
        "def sum_of_double_even_place(number):\n",
        "    sum = 0\n",
        "    num_str = str(number)\n",
        "    for i in range(get_size(number) - 2, -1, -2):\n",
        "        sum += get_digit(int(num_str[i]) * 2)\n",
        "    return sum\n",
        "\n",
        "# Return sum of odd-place digits in number\n",
        "def sum_of_odd_place(number):\n",
        "    sum = 0\n",
        "    num_str = str(number)\n",
        "    for i in range(get_size(number) - 1, -1, -2):\n",
        "        sum += int(num_str[i])\n",
        "    return sum\n",
        "\n",
        "# Return true if the card number is valid using Luhn's algorithm\n",
        "def luhn_check(number):\n",
        "    return (get_size(number) >= 13 and get_size(number) <= 16) and \\\n",
        "           (prefix_matched(number, 4) or\n",
        "            prefix_matched(number, 5) or\n",
        "            prefix_matched(number, 37) or\n",
        "            prefix_matched(number, 6)) and \\\n",
        "           ((sum_of_double_even_place(number) + sum_of_odd_place(number)) % 10 == 0)\n",
        "\n",
        "  # Should return True if valid, False if not\n"
      ],
      "metadata": {
        "id": "lY_K64ZmYsbH"
      },
      "execution_count": 5,
      "outputs": []
    },
    {
      "cell_type": "code",
      "source": [
        "def redact_card_numbers(text):\n",
        "    # Regular expression pattern for card numbers (13-19 digits)\n",
        "    card_pattern = r'\\b(?:\\d[ -]*?){13,19}\\b'\n",
        "\n",
        "    def replace_if_valid(match):\n",
        "        card_number = re.sub(r'[^\\d]', '', match.group())  # Strip spaces and dashes\n",
        "        if luhn_check(card_number):\n",
        "            return 'x' * len(match.group())\n",
        "        return match.group()\n",
        "\n",
        "    # Replace valid card numbers with 'x' of the same length\n",
        "    text = re.sub(card_pattern, replace_if_valid, text)\n",
        "\n",
        "    return text"
      ],
      "metadata": {
        "id": "QLbb_HhrZonm"
      },
      "execution_count": 6,
      "outputs": []
    },
    {
      "cell_type": "markdown",
      "source": [
        "#Validating Output"
      ],
      "metadata": {
        "id": "XJOopq3w0os2"
      }
    },
    {
      "cell_type": "code",
      "source": [
        "text = \"\"\"\n",
        "Hello John,\n",
        "\n",
        "Please contact me at john.doe@example.com or +1-234-567-8901.\n",
        "You can also reach me at jane_doe123@gmail.com or at (123) 456-7890.\n",
        "\n",
        "Best regards,\n",
        "Jane\n",
        "\"\"\"\n",
        "\n",
        "processed_text = replace_emails_and_phones(text)\n",
        "print(processed_text)"
      ],
      "metadata": {
        "colab": {
          "base_uri": "https://localhost:8080/"
        },
        "id": "VNzpZBgR1RA3",
        "outputId": "a960da32-8148-4782-af12-974626f10170"
      },
      "execution_count": null,
      "outputs": [
        {
          "output_type": "stream",
          "name": "stdout",
          "text": [
            "\n",
            "Hello John,\n",
            "\n",
            "Please contact me at xxxxxxxxxxxxxxxxxxxx or xxxxxxxxxxxxxxx.\n",
            "You can also reach me at xxxxxxxxxxxxxxxxxxxxx or at (xxxxxxxxxxxxx.\n",
            "\n",
            "Best regards,\n",
            "Jane\n",
            "\n"
          ]
        }
      ]
    },
    {
      "cell_type": "markdown",
      "source": [
        "##Using custom input\n"
      ],
      "metadata": {
        "id": "T7U_OGmZ1DON"
      }
    },
    {
      "cell_type": "code",
      "source": [
        "user_input = input(\"Enter the text: \")"
      ],
      "metadata": {
        "colab": {
          "base_uri": "https://localhost:8080/"
        },
        "id": "lqMnnWdi1mQq",
        "outputId": "84273252-73ab-40ee-c1e7-589b741faad2"
      },
      "execution_count": 31,
      "outputs": [
        {
          "name": "stdout",
          "output_type": "stream",
          "text": [
            "Enter the text: My phone number is 9831911890\n"
          ]
        }
      ]
    },
    {
      "cell_type": "code",
      "source": [
        "processed_text = replace_emails_and_phones(user_input)\n",
        "\n",
        "# Print the result\n",
        "print(\"\\nProcessed Text:\\n\")\n",
        "print(processed_text)"
      ],
      "metadata": {
        "colab": {
          "base_uri": "https://localhost:8080/"
        },
        "id": "N99blwXK1oy6",
        "outputId": "afb27e2d-8cae-4d3b-bf3a-0b1388657cc3"
      },
      "execution_count": 32,
      "outputs": [
        {
          "output_type": "stream",
          "name": "stdout",
          "text": [
            "\n",
            "Processed Text:\n",
            "\n",
            "My phone number is 9831911890\n"
          ]
        }
      ]
    },
    {
      "cell_type": "code",
      "source": [
        "processed_text = redact_card_numbers(processed_text)\n",
        "\n",
        "# Print the result\n",
        "print(\"\\nProcessed Text:\\n\")\n",
        "print(processed_text)"
      ],
      "metadata": {
        "colab": {
          "base_uri": "https://localhost:8080/"
        },
        "id": "acVsBR9kaB8D",
        "outputId": "48efc505-c7b7-4b8b-9ea4-fb04c380e823"
      },
      "execution_count": 9,
      "outputs": [
        {
          "output_type": "stream",
          "name": "stdout",
          "text": [
            "\n",
            "Processed Text:\n",
            "\n",
            "SEX 69\n"
          ]
        }
      ]
    },
    {
      "cell_type": "markdown",
      "source": [
        "##Named Entity Recognition"
      ],
      "metadata": {
        "id": "cKvqQJep98Qq"
      }
    },
    {
      "cell_type": "code",
      "source": [
        "import pandas as pd\n",
        "import spacy\n",
        "import requests\n",
        "from bs4 import BeautifulSoup\n",
        "nlp = spacy.load(\"en_core_web_sm\")\n",
        "pd.set_option(\"display.max_rows\", 200)"
      ],
      "metadata": {
        "id": "qsCam8Zu97vi"
      },
      "execution_count": 10,
      "outputs": []
    },
    {
      "cell_type": "markdown",
      "source": [
        "###Taking Input and categorising it"
      ],
      "metadata": {
        "id": "xKYDJs6-ATLJ"
      }
    },
    {
      "cell_type": "code",
      "source": [
        "content = \"Trinamool Congress leader Mahua Moitra has moved the Supreme Court against her expulsion from the Lok Sabha over the cash-for-query allegations against her. Moitra was ousted from the Parliament last week after the Ethics Committee of the Lok Sabha found her guilty of jeopardising national security by sharing her parliamentary portal's login credentials with businessman Darshan Hiranandani.\"\n",
        "\n",
        "doc = nlp(content)\n",
        "\n",
        "for ent in doc.ents:\n",
        "    print(ent.text, ent.start_char, ent.end_char, ent.label_)"
      ],
      "metadata": {
        "colab": {
          "base_uri": "https://localhost:8080/"
        },
        "id": "AXq7Y1xT_0jG",
        "outputId": "ef5b8656-1b5f-48e2-d521-f0931b7c3bfb"
      },
      "execution_count": 11,
      "outputs": [
        {
          "output_type": "stream",
          "name": "stdout",
          "text": [
            "Congress 10 18 ORG\n",
            "Mahua Moitra 26 38 PERSON\n",
            "the Supreme Court 49 66 ORG\n",
            "the Lok Sabha 94 107 PERSON\n",
            "Moitra 157 163 ORG\n",
            "Parliament 184 194 ORG\n",
            "last week 195 204 DATE\n",
            "the Ethics Committee 211 231 ORG\n",
            "Darshan Hiranandani 373 392 PERSON\n"
          ]
        }
      ]
    },
    {
      "cell_type": "markdown",
      "source": [
        "###Visualisation"
      ],
      "metadata": {
        "id": "EFpM9IotA19x"
      }
    },
    {
      "cell_type": "code",
      "source": [
        "from spacy import displacy\n",
        "displacy.render(doc, style=\"ent\")"
      ],
      "metadata": {
        "colab": {
          "base_uri": "https://localhost:8080/",
          "height": 122
        },
        "id": "kF54EZTNA4uH",
        "outputId": "64eb3f1d-7b6a-4167-b1ad-584ecc9dfc5b"
      },
      "execution_count": 12,
      "outputs": [
        {
          "output_type": "display_data",
          "data": {
            "text/plain": [
              "<IPython.core.display.HTML object>"
            ],
            "text/html": [
              "<span class=\"tex2jax_ignore\"><div class=\"entities\" style=\"line-height: 2.5; direction: ltr\">Trinamool \n",
              "<mark class=\"entity\" style=\"background: #7aecec; padding: 0.45em 0.6em; margin: 0 0.25em; line-height: 1; border-radius: 0.35em;\">\n",
              "    Congress\n",
              "    <span style=\"font-size: 0.8em; font-weight: bold; line-height: 1; border-radius: 0.35em; vertical-align: middle; margin-left: 0.5rem\">ORG</span>\n",
              "</mark>\n",
              " leader \n",
              "<mark class=\"entity\" style=\"background: #aa9cfc; padding: 0.45em 0.6em; margin: 0 0.25em; line-height: 1; border-radius: 0.35em;\">\n",
              "    Mahua Moitra\n",
              "    <span style=\"font-size: 0.8em; font-weight: bold; line-height: 1; border-radius: 0.35em; vertical-align: middle; margin-left: 0.5rem\">PERSON</span>\n",
              "</mark>\n",
              " has moved \n",
              "<mark class=\"entity\" style=\"background: #7aecec; padding: 0.45em 0.6em; margin: 0 0.25em; line-height: 1; border-radius: 0.35em;\">\n",
              "    the Supreme Court\n",
              "    <span style=\"font-size: 0.8em; font-weight: bold; line-height: 1; border-radius: 0.35em; vertical-align: middle; margin-left: 0.5rem\">ORG</span>\n",
              "</mark>\n",
              " against her expulsion from \n",
              "<mark class=\"entity\" style=\"background: #aa9cfc; padding: 0.45em 0.6em; margin: 0 0.25em; line-height: 1; border-radius: 0.35em;\">\n",
              "    the Lok Sabha\n",
              "    <span style=\"font-size: 0.8em; font-weight: bold; line-height: 1; border-radius: 0.35em; vertical-align: middle; margin-left: 0.5rem\">PERSON</span>\n",
              "</mark>\n",
              " over the cash-for-query allegations against her. \n",
              "<mark class=\"entity\" style=\"background: #7aecec; padding: 0.45em 0.6em; margin: 0 0.25em; line-height: 1; border-radius: 0.35em;\">\n",
              "    Moitra\n",
              "    <span style=\"font-size: 0.8em; font-weight: bold; line-height: 1; border-radius: 0.35em; vertical-align: middle; margin-left: 0.5rem\">ORG</span>\n",
              "</mark>\n",
              " was ousted from the \n",
              "<mark class=\"entity\" style=\"background: #7aecec; padding: 0.45em 0.6em; margin: 0 0.25em; line-height: 1; border-radius: 0.35em;\">\n",
              "    Parliament\n",
              "    <span style=\"font-size: 0.8em; font-weight: bold; line-height: 1; border-radius: 0.35em; vertical-align: middle; margin-left: 0.5rem\">ORG</span>\n",
              "</mark>\n",
              " \n",
              "<mark class=\"entity\" style=\"background: #bfe1d9; padding: 0.45em 0.6em; margin: 0 0.25em; line-height: 1; border-radius: 0.35em;\">\n",
              "    last week\n",
              "    <span style=\"font-size: 0.8em; font-weight: bold; line-height: 1; border-radius: 0.35em; vertical-align: middle; margin-left: 0.5rem\">DATE</span>\n",
              "</mark>\n",
              " after \n",
              "<mark class=\"entity\" style=\"background: #7aecec; padding: 0.45em 0.6em; margin: 0 0.25em; line-height: 1; border-radius: 0.35em;\">\n",
              "    the Ethics Committee\n",
              "    <span style=\"font-size: 0.8em; font-weight: bold; line-height: 1; border-radius: 0.35em; vertical-align: middle; margin-left: 0.5rem\">ORG</span>\n",
              "</mark>\n",
              " of the Lok Sabha found her guilty of jeopardising national security by sharing her parliamentary portal's login credentials with businessman \n",
              "<mark class=\"entity\" style=\"background: #aa9cfc; padding: 0.45em 0.6em; margin: 0 0.25em; line-height: 1; border-radius: 0.35em;\">\n",
              "    Darshan Hiranandani\n",
              "    <span style=\"font-size: 0.8em; font-weight: bold; line-height: 1; border-radius: 0.35em; vertical-align: middle; margin-left: 0.5rem\">PERSON</span>\n",
              "</mark>\n",
              ".</div></span>"
            ]
          },
          "metadata": {}
        }
      ]
    },
    {
      "cell_type": "markdown",
      "source": [
        "Function to replace names with 'Redacted'"
      ],
      "metadata": {
        "id": "KSamvxqyGlOh"
      }
    },
    {
      "cell_type": "code",
      "source": [
        "def replace_names(text):\n",
        "  doc = nlp(text)\n",
        "  new_text = text\n",
        "  for ent in reversed(doc.ents):\n",
        "    if ent.label_ == \"PERSON\":\n",
        "      new_text = new_text[:ent.start_char] + \"x\"*10 + new_text[ent.end_char:]\n",
        "  return new_text\n"
      ],
      "metadata": {
        "id": "UKc6AdLKF6R1"
      },
      "execution_count": 13,
      "outputs": []
    },
    {
      "cell_type": "markdown",
      "source": [
        "###Printing"
      ],
      "metadata": {
        "id": "qAp6j9kFGtoD"
      }
    },
    {
      "cell_type": "code",
      "source": [
        "redacted_content = replace_names(content)\n",
        "print(redacted_content)"
      ],
      "metadata": {
        "colab": {
          "base_uri": "https://localhost:8080/"
        },
        "id": "FW-c5OdOGs37",
        "outputId": "72d1ab7e-5896-4f63-ca5a-d831bb28f1b4"
      },
      "execution_count": 14,
      "outputs": [
        {
          "output_type": "stream",
          "name": "stdout",
          "text": [
            "Trinamool Congress leader xxxxxxxxxx has moved the Supreme Court against her expulsion from xxxxxxxxxx over the cash-for-query allegations against her. Moitra was ousted from the Parliament last week after the Ethics Committee of the Lok Sabha found her guilty of jeopardising national security by sharing her parliamentary portal's login credentials with businessman xxxxxxxxxx.\n"
          ]
        }
      ]
    },
    {
      "cell_type": "markdown",
      "source": [
        "##Pdf Upload"
      ],
      "metadata": {
        "id": "gnQqRdnfJKGu"
      }
    },
    {
      "cell_type": "code",
      "source": [
        "!pip install PyPDF2\n",
        "import PyPDF2"
      ],
      "metadata": {
        "colab": {
          "base_uri": "https://localhost:8080/"
        },
        "id": "zI3euoGnJOxR",
        "outputId": "a206994f-fd84-453c-be83-4b97c9295f29"
      },
      "execution_count": 15,
      "outputs": [
        {
          "output_type": "stream",
          "name": "stdout",
          "text": [
            "Collecting PyPDF2\n",
            "  Downloading pypdf2-3.0.1-py3-none-any.whl.metadata (6.8 kB)\n",
            "Downloading pypdf2-3.0.1-py3-none-any.whl (232 kB)\n",
            "\u001b[2K   \u001b[90m━━━━━━━━━━━━━━━━━━━━━━━━━━━━━━━━━━━━━━━━\u001b[0m \u001b[32m232.6/232.6 kB\u001b[0m \u001b[31m3.9 MB/s\u001b[0m eta \u001b[36m0:00:00\u001b[0m\n",
            "\u001b[?25hInstalling collected packages: PyPDF2\n",
            "Successfully installed PyPDF2-3.0.1\n"
          ]
        }
      ]
    },
    {
      "cell_type": "markdown",
      "source": [
        "###Reading text from pdf"
      ],
      "metadata": {
        "id": "SGuojxHTKpep"
      }
    },
    {
      "cell_type": "code",
      "source": [
        "with open('Example.pdf', 'rb') as pdf_file_obj:\n",
        "    pdf_file_reader = PyPDF2.PdfReader(pdf_file_obj)\n",
        "\n",
        "    num_of_pages = len(pdf_file_reader.pages)\n",
        "    print('No. of pages : ', num_of_pages)\n",
        "\n",
        "    pdf_text=\"\"\n",
        "    for page in range(num_of_pages):\n",
        "        page = pdf_file_reader.pages[page]\n",
        "        pdf_text += page.extract_text()\n",
        "        print(page.extract_text())\n",
        "\n"
      ],
      "metadata": {
        "colab": {
          "base_uri": "https://localhost:8080/",
          "height": 211
        },
        "id": "Nw1XLmzQKoFO",
        "outputId": "b7e1be12-1a1c-4778-e7da-005da26d226b"
      },
      "execution_count": 16,
      "outputs": [
        {
          "output_type": "error",
          "ename": "FileNotFoundError",
          "evalue": "[Errno 2] No such file or directory: 'Example.pdf'",
          "traceback": [
            "\u001b[0;31m---------------------------------------------------------------------------\u001b[0m",
            "\u001b[0;31mFileNotFoundError\u001b[0m                         Traceback (most recent call last)",
            "\u001b[0;32m<ipython-input-16-ebe2e70f5e41>\u001b[0m in \u001b[0;36m<cell line: 1>\u001b[0;34m()\u001b[0m\n\u001b[0;32m----> 1\u001b[0;31m \u001b[0;32mwith\u001b[0m \u001b[0mopen\u001b[0m\u001b[0;34m(\u001b[0m\u001b[0;34m'Example.pdf'\u001b[0m\u001b[0;34m,\u001b[0m \u001b[0;34m'rb'\u001b[0m\u001b[0;34m)\u001b[0m \u001b[0;32mas\u001b[0m \u001b[0mpdf_file_obj\u001b[0m\u001b[0;34m:\u001b[0m\u001b[0;34m\u001b[0m\u001b[0;34m\u001b[0m\u001b[0m\n\u001b[0m\u001b[1;32m      2\u001b[0m     \u001b[0mpdf_file_reader\u001b[0m \u001b[0;34m=\u001b[0m \u001b[0mPyPDF2\u001b[0m\u001b[0;34m.\u001b[0m\u001b[0mPdfReader\u001b[0m\u001b[0;34m(\u001b[0m\u001b[0mpdf_file_obj\u001b[0m\u001b[0;34m)\u001b[0m\u001b[0;34m\u001b[0m\u001b[0;34m\u001b[0m\u001b[0m\n\u001b[1;32m      3\u001b[0m \u001b[0;34m\u001b[0m\u001b[0m\n\u001b[1;32m      4\u001b[0m     \u001b[0mnum_of_pages\u001b[0m \u001b[0;34m=\u001b[0m \u001b[0mlen\u001b[0m\u001b[0;34m(\u001b[0m\u001b[0mpdf_file_reader\u001b[0m\u001b[0;34m.\u001b[0m\u001b[0mpages\u001b[0m\u001b[0;34m)\u001b[0m\u001b[0;34m\u001b[0m\u001b[0;34m\u001b[0m\u001b[0m\n\u001b[1;32m      5\u001b[0m     \u001b[0mprint\u001b[0m\u001b[0;34m(\u001b[0m\u001b[0;34m'No. of pages : '\u001b[0m\u001b[0;34m,\u001b[0m \u001b[0mnum_of_pages\u001b[0m\u001b[0;34m)\u001b[0m\u001b[0;34m\u001b[0m\u001b[0;34m\u001b[0m\u001b[0m\n",
            "\u001b[0;31mFileNotFoundError\u001b[0m: [Errno 2] No such file or directory: 'Example.pdf'"
          ]
        }
      ]
    },
    {
      "cell_type": "markdown",
      "source": [
        "###Adding our various redaction features on it"
      ],
      "metadata": {
        "id": "BHqrLo_cL8Lu"
      }
    },
    {
      "cell_type": "code",
      "source": [
        "redacted_pdf_text_names=replace_names(pdf_text)\n",
        "print (redacted_pdf_text_names)"
      ],
      "metadata": {
        "colab": {
          "base_uri": "https://localhost:8080/"
        },
        "id": "zinwvXgmMBqH",
        "outputId": "ed402a3b-150a-43e4-9106-80b5b7daedb6"
      },
      "execution_count": null,
      "outputs": [
        {
          "output_type": "stream",
          "name": "stdout",
          "text": [
            "ACCEPTANCE OF Mahindra and Mahindra Limited (M&M) FULL-TIME OFFER \n",
            " \n",
            " \n",
            "Respected Sir/Ma’am, \n",
            "I am xxxxxxxxxx, a fourth-year undergraduate student of the Mechanical \n",
            "Engineering Department, NIT Durgapur. I am glad to accept the Full Time Offer \n",
            "provided to me by your esteemed organisation Mahindra and Mahindra \n",
            "Limited (M&M).  \n",
            "Please accept this as my formal acceptance. I hereby attach below my contact \n",
            "details. \n",
            "Name: xxxxxxxxxxRoll No: 20ME8020 \n",
            "Registration No:  20U10091 \n",
            "Contact No: +91-8000214296 \n",
            "Email ID: 7596ykumar@gmail.com \n",
            "Alternate xxxxxxxxxx ID: yk.20u10091@btech.nitdgp.ac.in \n",
            " \n",
            "Yours sincerely, \n",
            "xxxxxxxxxx:  \n",
            " \n",
            "  \n",
            " \n",
            "\n"
          ]
        }
      ]
    },
    {
      "cell_type": "code",
      "source": [
        "redacted_pdf_text_emails_and_phones=replace_emails_and_phones(redacted_pdf_text_names)\n",
        "print (redacted_pdf_text_emails_and_phones)\n"
      ],
      "metadata": {
        "colab": {
          "base_uri": "https://localhost:8080/"
        },
        "id": "9lui_Nu6MpX2",
        "outputId": "5f61e7bd-0875-413a-a733-848b5b1d3ae6"
      },
      "execution_count": null,
      "outputs": [
        {
          "output_type": "stream",
          "name": "stdout",
          "text": [
            "ACCEPTANCE OF Mahindra and Mahindra Limited (M&M) FULL-TIME OFFER \n",
            " \n",
            " \n",
            "Respected Sir/Ma’am, \n",
            "I am xxxxxxxxxx, a fourth-year undergraduate student of the Mechanical \n",
            "Engineering Department, NIT Durgapur. I am glad to accept the Full Time Offer \n",
            "provided to me by your esteemed organisation Mahindra and Mahindra \n",
            "Limited (M&M).  \n",
            "Please accept this as my formal acceptance. I hereby attach below my contact \n",
            "details. \n",
            "Name: xxxxxxxxxxRoll No: 20ME8020 \n",
            "Registration No:  20Uxxxxx \n",
            "Contact No: xxxxxxxxxxxxxx \n",
            "Email ID: xxxxxxxxxxxxxxxxxxxx \n",
            "Alternate xxxxxxxxxx ID: xxxxxxxxxxxxxxxxxxxxxxxxxxxxxx \n",
            " \n",
            "Yours sincerely, \n",
            "xxxxxxxxxx:  \n",
            " \n",
            "  \n",
            " \n",
            "\n"
          ]
        }
      ]
    },
    {
      "cell_type": "markdown",
      "source": [
        "#Web Integration\n"
      ],
      "metadata": {
        "id": "L-TRGXiUWQf8"
      }
    },
    {
      "cell_type": "code",
      "source": [
        "!pip install flask flask-cors\n",
        "\n",
        "from flask import Flask, request, jsonify\n",
        "from flask_cors import CORS"
      ],
      "metadata": {
        "colab": {
          "base_uri": "https://localhost:8080/"
        },
        "id": "VkmsB22JWPgY",
        "outputId": "c996381b-958b-450c-e584-69dd1d2be994"
      },
      "execution_count": 17,
      "outputs": [
        {
          "output_type": "stream",
          "name": "stdout",
          "text": [
            "Requirement already satisfied: flask in /usr/local/lib/python3.10/dist-packages (2.2.5)\n",
            "Requirement already satisfied: flask-cors in /usr/local/lib/python3.10/dist-packages (5.0.0)\n",
            "Requirement already satisfied: Werkzeug>=2.2.2 in /usr/local/lib/python3.10/dist-packages (from flask) (3.0.4)\n",
            "Requirement already satisfied: Jinja2>=3.0 in /usr/local/lib/python3.10/dist-packages (from flask) (3.1.4)\n",
            "Requirement already satisfied: itsdangerous>=2.0 in /usr/local/lib/python3.10/dist-packages (from flask) (2.2.0)\n",
            "Requirement already satisfied: click>=8.0 in /usr/local/lib/python3.10/dist-packages (from flask) (8.1.7)\n",
            "Requirement already satisfied: MarkupSafe>=2.0 in /usr/local/lib/python3.10/dist-packages (from Jinja2>=3.0->flask) (2.1.5)\n"
          ]
        }
      ]
    },
    {
      "cell_type": "markdown",
      "source": [
        "Initialising flask app"
      ],
      "metadata": {
        "id": "57ov8I84XDvN"
      }
    },
    {
      "cell_type": "code",
      "source": [
        "from flask import Flask, request, jsonify\n",
        "from flask_cors import CORS\n",
        "app = Flask(__name__)\n",
        "CORS(app)"
      ],
      "metadata": {
        "colab": {
          "base_uri": "https://localhost:8080/"
        },
        "id": "2fHcV845XGUD",
        "outputId": "7de0e47d-1245-4797-b9c2-5279c94e0ffb"
      },
      "execution_count": 18,
      "outputs": [
        {
          "output_type": "execute_result",
          "data": {
            "text/plain": [
              "<flask_cors.extension.CORS at 0x7c3ce0797e80>"
            ]
          },
          "metadata": {},
          "execution_count": 18
        }
      ]
    },
    {
      "cell_type": "markdown",
      "source": [
        "Implementing routes"
      ],
      "metadata": {
        "id": "Wo0lYblFa8mo"
      }
    },
    {
      "cell_type": "code",
      "source": [
        "from pyngrok import ngrok\n",
        "@app.route('/redact', methods=['POST'])\n",
        "def red():\n",
        "    data = request.json\n",
        "    input_text = data.get('text', '')\n",
        "    redacted_text = replace_emails_and_phones(input_text)\n",
        "\n",
        "    return jsonify({\"redacted_text\": redacted_text})\n",
        "\n",
        "# Set your ngrok authentication token\n",
        "ngrok.set_auth_token('2lfAiQSC7OPQK6E81seZziiHbEh_5Ud2g6Pk9VU2a8nwJmyY1')\n",
        "\n",
        "# Expose the Flask app on port 5000\n",
        "public_url = ngrok.connect(5000)\n",
        "print(f\"Public URL: {public_url}\")\n",
        "\n",
        "# Now run the Flask app\n",
        "app.run(host='0.0.0.0', port=5000)\n",
        "\n",
        "\n"
      ],
      "metadata": {
        "colab": {
          "base_uri": "https://localhost:8080/"
        },
        "id": "wV_rBJfYYZud",
        "outputId": "e6af8a83-4ad0-495a-9970-eb7dc9c7ecd2"
      },
      "execution_count": 40,
      "outputs": [
        {
          "output_type": "stream",
          "name": "stdout",
          "text": [
            "Public URL: NgrokTunnel: \"https://daee-34-74-174-207.ngrok-free.app\" -> \"http://localhost:5000\"\n",
            " * Serving Flask app '__main__'\n",
            " * Debug mode: off\n"
          ]
        },
        {
          "output_type": "stream",
          "name": "stderr",
          "text": [
            "INFO:werkzeug:\u001b[31m\u001b[1mWARNING: This is a development server. Do not use it in a production deployment. Use a production WSGI server instead.\u001b[0m\n",
            " * Running on all addresses (0.0.0.0)\n",
            " * Running on http://127.0.0.1:5000\n",
            " * Running on http://172.28.0.12:5000\n",
            "INFO:werkzeug:\u001b[33mPress CTRL+C to quit\u001b[0m\n",
            "WARNING:pyngrok.process.ngrok:t=2024-09-05T20:49:42+0000 lvl=warn msg=\"Stopping forwarder\" name=http-5000-6794b55f-e3b4-48c5-9070-f5d47530db3a acceptErr=\"failed to accept connection: Listener closed\"\n"
          ]
        }
      ]
    }
  ]
}